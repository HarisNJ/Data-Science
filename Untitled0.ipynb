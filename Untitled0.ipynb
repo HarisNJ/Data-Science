{
  "nbformat": 4,
  "nbformat_minor": 0,
  "metadata": {
    "colab": {
      "provenance": []
    },
    "kernelspec": {
      "name": "python3",
      "display_name": "Python 3"
    },
    "language_info": {
      "name": "python"
    }
  },
  "cells": [
    {
      "cell_type": "code",
      "execution_count": null,
      "metadata": {
        "id": "pI4oEsYKo35z"
      },
      "outputs": [],
      "source": []
    },
    {
      "cell_type": "markdown",
      "source": [
        "***add two numbers***"
      ],
      "metadata": {
        "id": "Rc6ewQNIo9V4"
      }
    },
    {
      "cell_type": "code",
      "source": [
        "a=int(input(\"enter a value:\"))\n",
        "b=int(input(\"enter a value:\"))\n",
        "sum=a+b\n",
        "print(\"sum:\",sum)"
      ],
      "metadata": {
        "colab": {
          "base_uri": "https://localhost:8080/"
        },
        "id": "EWreA1ANpHX6",
        "outputId": "6f915733-f87d-4007-eba9-30b430a6370c"
      },
      "execution_count": null,
      "outputs": [
        {
          "output_type": "stream",
          "name": "stdout",
          "text": [
            "enter a value:15\n",
            "enter a value:332\n",
            "sum: 347\n"
          ]
        }
      ]
    },
    {
      "cell_type": "code",
      "source": [
        "    import numpy as np\n",
        "    array_from_list = np.array([1, 2, 3, 4, 5])\n",
        "    print(\"Array from list:\", array_from_list)\n",
        "    array_with_range = np.arange(10)\n",
        "    print(\"Array with range:\", array_with_range)\n",
        "    zeros_array = np.zeros((3, 3))\n",
        "    print(\"Array of zeros:\\n\", zeros_array)\n",
        "    ones_array = np.ones((2, 5))\n",
        "    print(\"Array of ones: In\", ones_array)\n",
        "\n"
      ],
      "metadata": {
        "colab": {
          "base_uri": "https://localhost:8080/"
        },
        "id": "AN40nVisD9Eu",
        "outputId": "18a1a610-43ac-4dcf-cd81-b6df54566ea6"
      },
      "execution_count": null,
      "outputs": [
        {
          "output_type": "stream",
          "name": "stdout",
          "text": [
            "Array from list: [1 2 3 4 5]\n",
            "Array with range: [0 1 2 3 4 5 6 7 8 9]\n",
            "Array of zeros:\n",
            " [[0. 0. 0.]\n",
            " [0. 0. 0.]\n",
            " [0. 0. 0.]]\n",
            "Array of ones: In [[1. 1. 1. 1. 1.]\n",
            " [1. 1. 1. 1. 1.]]\n"
          ]
        }
      ]
    },
    {
      "cell_type": "code",
      "source": [
        "import numpy as np\n",
        "\n",
        "a = np.array([1, 2, 3])\n",
        "b = np.array([4, 5, 6])\n",
        "\n",
        "add_result = np.add(a, b)\n",
        "print(\"Addition:\", add_result)\n",
        "\n",
        "sub_result = np.subtract(a, b)\n",
        "print(\"Subtraction:\", sub_result)\n",
        "\n",
        "mul_result = np.multiply(a, b)\n",
        "print(\"Multiplication:\", mul_result)\n",
        "\n",
        "\n",
        "div_result = np.divide(a, b)\n",
        "print(\"Division:\", div_result)\n"
      ],
      "metadata": {
        "colab": {
          "base_uri": "https://localhost:8080/"
        },
        "id": "XomaFr8ZECa6",
        "outputId": "e1e76471-c3cb-4286-9f46-7db9d70cac3c"
      },
      "execution_count": null,
      "outputs": [
        {
          "output_type": "stream",
          "name": "stdout",
          "text": [
            "Addition: [5 7 9]\n",
            "Subtraction: [-3 -3 -3]\n",
            "Multiplication: [ 4 10 18]\n",
            "Division: [0.25 0.4  0.5 ]\n"
          ]
        }
      ]
    },
    {
      "cell_type": "code",
      "source": [
        "import numpy as np\n",
        "array = np.arange (12)\n",
        "print(\"Original array:\", array)\n",
        "reshaped_array = array.reshape((3,4))\n",
        "print(\"Reshaped to 3x4:\\n\", reshaped_array)\n",
        "reshaped_array_3d = array.reshape((2, 3, 2))\n",
        "print(\"Reshaped to 2x3x2:\\n\", reshaped_array_3d)\n"
      ],
      "metadata": {
        "colab": {
          "base_uri": "https://localhost:8080/"
        },
        "id": "JLHQHOAFEW7C",
        "outputId": "5427e7c5-9cce-46f5-8502-b8ec782f9e1c"
      },
      "execution_count": null,
      "outputs": [
        {
          "output_type": "stream",
          "name": "stdout",
          "text": [
            "Original array: [ 0  1  2  3  4  5  6  7  8  9 10 11]\n",
            "Reshaped to 3x4:\n",
            " [[ 0  1  2  3]\n",
            " [ 4  5  6  7]\n",
            " [ 8  9 10 11]]\n",
            "Reshaped to 2x3x2:\n",
            " [[[ 0  1]\n",
            "  [ 2  3]\n",
            "  [ 4  5]]\n",
            "\n",
            " [[ 6  7]\n",
            "  [ 8  9]\n",
            "  [10 11]]]\n"
          ]
        }
      ]
    },
    {
      "cell_type": "code",
      "source": [
        "import numpy as np\n",
        "array_2d = np.array([[1, 2, 3], [4, 5, 6], [7, 8, 9]])\n",
        "print(\"2D Array: \\n\", array_2d)\n",
        "element = array_2d[1, 2]\n",
        "print(\"Element at (1, 2):\", element)"
      ],
      "metadata": {
        "colab": {
          "base_uri": "https://localhost:8080/"
        },
        "id": "K7yJcJtNEZdv",
        "outputId": "45d5902c-168d-4462-ac95-c378d526a01a"
      },
      "execution_count": null,
      "outputs": [
        {
          "output_type": "stream",
          "name": "stdout",
          "text": [
            "2D Array: \n",
            " [[1 2 3]\n",
            " [4 5 6]\n",
            " [7 8 9]]\n",
            "Element at (1, 2): 6\n"
          ]
        }
      ]
    },
    {
      "cell_type": "code",
      "source": [
        "import numpy as np\n",
        "matrix1 = np.array([[1, 2, 3], [4, 5, 6], [7, 8, 9]])\n",
        "matrix2 = np.array([[9, 8, 7], [6, 5, 4], [3, 2, 1]])\n",
        "\n",
        "matrix_sum = matrix1 + matrix2\n",
        "matrix_diff = matrix1 - matrix2\n",
        "matrix_product = matrix1 * matrix2\n",
        "matrix_divide = matrix1 / matrix2\n",
        "matrix_multiply = np.dot(matrix1, matrix2)\n",
        "matrix1_transpose = np.transpose(matrix1)\n",
        "diagonal_sum = np.trace(matrix1)\n",
        "\n",
        "print(\"Matrix 1:\\n\", matrix1)\n",
        "print(\"Matrix 2:\\n\", matrix2)\n",
        "print(\"Matrix Sum:\\n\", matrix_sum)\n",
        "print(\"Matrix Difference:\\n\", matrix_diff)\n",
        "print(\"Matrix Element-wise Product:\\n\", matrix_product)\n",
        "print(\"Matrix Element-wise Division:\\n\", matrix_divide)\n",
        "print(\"Matrix Multiplication:\\n\", matrix_multiply)\n",
        "print(\"Transpose of Matrix 1:\\n\", matrix1_transpose)\n",
        "print(\"Sum of Diagonal Elements of Matrix 1:\", diagonal_sum)\n",
        "\n",
        "\n",
        "subarray = array_2d[1:3, 0:2]\n",
        "print(\"Sliced subarray:\\n\", subarray)\n",
        "\n",
        "column = array_2d[:, 1]\n",
        "print(\"Column 1 of array_2d:\", column)\n"
      ],
      "metadata": {
        "colab": {
          "base_uri": "https://localhost:8080/"
        },
        "id": "C7EtWwbtEvMC",
        "outputId": "4fb5717d-fe01-4d47-e57f-8a004be16b01"
      },
      "execution_count": null,
      "outputs": [
        {
          "output_type": "stream",
          "name": "stdout",
          "text": [
            "Matrix 1:\n",
            " [[1 2 3]\n",
            " [4 5 6]\n",
            " [7 8 9]]\n",
            "Matrix 2:\n",
            " [[9 8 7]\n",
            " [6 5 4]\n",
            " [3 2 1]]\n",
            "Matrix Sum:\n",
            " [[10 10 10]\n",
            " [10 10 10]\n",
            " [10 10 10]]\n",
            "Matrix Difference:\n",
            " [[-8 -6 -4]\n",
            " [-2  0  2]\n",
            " [ 4  6  8]]\n",
            "Matrix Element-wise Product:\n",
            " [[ 9 16 21]\n",
            " [24 25 24]\n",
            " [21 16  9]]\n",
            "Matrix Element-wise Division:\n",
            " [[0.11111111 0.25       0.42857143]\n",
            " [0.66666667 1.         1.5       ]\n",
            " [2.33333333 4.         9.        ]]\n",
            "Matrix Multiplication:\n",
            " [[ 30  24  18]\n",
            " [ 84  69  54]\n",
            " [138 114  90]]\n",
            "Transpose of Matrix 1:\n",
            " [[1 4 7]\n",
            " [2 5 8]\n",
            " [3 6 9]]\n",
            "Sum of Diagonal Elements of Matrix 1: 15\n",
            "Sliced subarray:\n",
            " [[4 5]\n",
            " [7 8]]\n",
            "Column 1 of array_2d: [2 5 8]\n"
          ]
        }
      ]
    },
    {
      "cell_type": "code",
      "source": [
        "import numpy as np\n",
        "array = np.array([1, 2, 3, 4, 5, 6, 7, 8, 9, 10])\n",
        "\n",
        "mean = np.mean(array)\n",
        "print(\"Mean:\", mean)\n",
        "median = np.median(array)\n",
        "print(\"Median:\", median)\n",
        "std_dev = np.std(array)\n",
        "print(\"Standard Deviation:\", std_dev)\n",
        "min_val = np.min(array)\n",
        "max_val = np.max(array)\n",
        "print(\"Minimum value:\", min_val)\n",
        "print(\"Maximum value:\", max_val)\n"
      ],
      "metadata": {
        "id": "9w_FebNzE2jl",
        "outputId": "fcaaf3fe-c45b-44ad-fb70-655821f8b30f",
        "colab": {
          "base_uri": "https://localhost:8080/"
        }
      },
      "execution_count": null,
      "outputs": [
        {
          "output_type": "stream",
          "name": "stdout",
          "text": [
            "Mean: 5.5\n",
            "Median: 5.5\n",
            "Standard Deviation: 2.8722813232690143\n",
            "Minimum value: 1\n",
            "Maximum value: 10\n"
          ]
        }
      ]
    },
    {
      "cell_type": "code",
      "source": [
        "import numpy as np\n",
        "\n",
        "x = np.array([[1, 2], [3, 4]])\n",
        "y = np.array([[5, 6], [7, 8]])\n",
        "print(\"Matrix X is:\\n\", x)\n",
        "print(\"Matrix Y is:\\n\", y)\n",
        "a = np.power(x, 2)\n",
        "print(\"X ^2=\",a)\n",
        "result =a+2*y\n",
        "print(\"X^2+2Y=\",result)\n"
      ],
      "metadata": {
        "id": "j7tPZyfSE5V0",
        "outputId": "3f5c9bf9-2852-4c41-df90-bd002685a45f",
        "colab": {
          "base_uri": "https://localhost:8080/"
        }
      },
      "execution_count": null,
      "outputs": [
        {
          "output_type": "stream",
          "name": "stdout",
          "text": [
            "Matrix X is:\n",
            " [[1 2]\n",
            " [3 4]]\n",
            "Matrix Y is:\n",
            " [[5 6]\n",
            " [7 8]]\n",
            "X ^2= [[ 1  4]\n",
            " [ 9 16]]\n",
            "X^2+2Y= [[11 16]\n",
            " [23 32]]\n"
          ]
        }
      ]
    },
    {
      "cell_type": "markdown",
      "source": [],
      "metadata": {
        "id": "ixd5bVklrl8X"
      }
    }
  ]
}